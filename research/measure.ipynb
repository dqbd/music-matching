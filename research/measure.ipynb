{
 "cells": [
  {
   "cell_type": "code",
   "execution_count": 1,
   "metadata": {},
   "outputs": [],
   "source": [
    "%load_ext autoreload\n",
    "%autoreload 2\n"
   ]
  },
  {
   "cell_type": "code",
   "execution_count": 2,
   "metadata": {},
   "outputs": [],
   "source": [
    "import sys\n",
    "import json\n",
    "import librosa\n",
    "from typing import Literal"
   ]
  },
  {
   "cell_type": "code",
   "execution_count": 4,
   "metadata": {},
   "outputs": [],
   "source": [
    "global_params = {\"sr\": 11_025, \"n_fft\": 2048, \"hop_length\": 2048 // 4}\n",
    "record, _ = librosa.load(\"samples/record.wav\", sr=global_params[\"sr\"])\n",
    "music, _ = librosa.load(\"samples/music.wav\", sr=global_params[\"sr\"])"
   ]
  },
  {
   "cell_type": "code",
   "execution_count": 6,
   "metadata": {},
   "outputs": [
    {
     "name": "stdout",
     "output_type": "stream",
     "text": [
      "{'gap_size': 1, 'window_size': 3}\n",
      "{'gap_size': 1, 'window_size': 4}\n",
      "{'gap_size': 1, 'window_size': 5}\n",
      "{'gap_size': 2, 'window_size': 3}\n",
      "{'gap_size': 2, 'window_size': 4}\n",
      "{'gap_size': 2, 'window_size': 5}\n"
     ]
    }
   ],
   "source": [
    "from hash.cluster import get_hashes_from_peaks_cluster as cluster\n",
    "from hash.fanout import get_hashes_from_peaks_fanout as fanout\n",
    "from freq.prominence import get_peak_frequencies_prominence as prominence\n",
    "from freq.bands import get_peak_frequencies_bands as bands\n",
    "from util.compare import compare_fingerprints\n",
    "\n",
    "from sklearn.model_selection import ParameterGrid\n",
    "\n",
    "params = ParameterGrid({\"window_size\": range(3, 7), \"gap_size\": range(1, 3)})\n",
    "\n",
    "\n",
    "for param in params:\n",
    "    print(param)\n",
    "\n",
    "# global_params = {\"sr\": 11_025, \"n_fft\": 2048, \"hop_length\": 2048 // 4}\n",
    "\n",
    "# bands_params = {\"avg_window\": 10, **global_params}\n",
    "# prominence_params = {\n",
    "#     \"num_peaks\": 15,\n",
    "#     \"distance\": 100,\n",
    "#     **global_params,\n",
    "# }\n",
    "\n",
    "# cluster_kwargs = {\"window_size\": 3, \"gap_size\": 1}\n",
    "# fanout_kwargs = {\"fan_out\": 50, \"tail_size\": 1}\n",
    "\n",
    "\n",
    "# record, _ = librosa.load(\"samples/record.wav\", sr=global_params[\"sr\"])\n",
    "# music, _ = librosa.load(\"samples/music.wav\", sr=global_params[\"sr\"])\n",
    "\n",
    "# print(\"music loaded\")\n",
    "\n",
    "# music_bands = bands(music, **bands_params)\n",
    "# record_bands = bands(record, **bands_params)\n",
    "\n",
    "# print(\n",
    "#     compare_fingerprints(\n",
    "#         fanout(music_bands, **fanout_kwargs),\n",
    "#         fanout(record_bands, **fanout_kwargs),\n",
    "#     )[0]\n",
    "# )\n"
   ]
  },
  {
   "cell_type": "code",
   "execution_count": null,
   "metadata": {},
   "outputs": [],
   "source": []
  }
 ],
 "metadata": {
  "kernelspec": {
   "display_name": "Python 3",
   "language": "python",
   "name": "python3"
  },
  "language_info": {
   "codemirror_mode": {
    "name": "ipython",
    "version": 3
   },
   "file_extension": ".py",
   "mimetype": "text/x-python",
   "name": "python",
   "nbconvert_exporter": "python",
   "pygments_lexer": "ipython3",
   "version": "3.10.8"
  },
  "orig_nbformat": 4,
  "vscode": {
   "interpreter": {
    "hash": "b0fa6594d8f4cbf19f97940f81e996739fb7646882a419484c72d19e05852a7e"
   }
  }
 },
 "nbformat": 4,
 "nbformat_minor": 2
}
