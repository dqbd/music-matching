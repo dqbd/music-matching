{
 "cells": [
  {
   "cell_type": "code",
   "execution_count": 16,
   "metadata": {},
   "outputs": [
    {
     "data": {
      "text/plain": [
       "array([[1.9942096e-03, 1.6539977e-03, 1.0324318e-03, ..., 2.2921942e-08,\n",
       "        1.3253019e-07, 1.3284604e-06],\n",
       "       [9.8903722e-04, 1.4139721e-03, 1.0623421e-03, ..., 2.4810921e-08,\n",
       "        1.0016999e-07, 1.3233517e-06],\n",
       "       [2.9397004e-03, 2.8943599e-03, 1.5703108e-03, ..., 2.5803800e-08,\n",
       "        1.1978106e-07, 1.3126783e-06],\n",
       "       ...,\n",
       "       [7.4065116e-04, 3.6710923e-04, 1.6655393e-06, ..., 3.3514746e-04,\n",
       "        7.0654217e-04, 1.0672152e-03],\n",
       "       [7.4100826e-04, 3.6752658e-04, 1.9045269e-06, ..., 2.4655950e-04,\n",
       "        1.1782177e-04, 8.9619984e-04],\n",
       "       [7.4154447e-04, 3.7006455e-04, 2.5959009e-06, ..., 1.9005344e-04,\n",
       "        5.1085505e-04, 9.5983193e-04]], dtype=float32)"
      ]
     },
     "execution_count": 16,
     "metadata": {},
     "output_type": "execute_result"
    }
   ],
   "source": [
    "import librosa\n",
    "import numpy\n",
    "\n",
    "# Ukazka jak ziskat STFT\n",
    "audio_time_series, sample_rate = librosa.load(librosa.ex(\"trumpet\"))\n",
    "stft_matrix = numpy.abs(librosa.stft(y=audio_time_series))\n",
    "stft_matrix\n"
   ]
  },
  {
   "cell_type": "code",
   "execution_count": 17,
   "metadata": {},
   "outputs": [
    {
     "name": "stderr",
     "output_type": "stream",
     "text": [
      "/Users/danko/projects/vmm/project_env/lib/python3.10/site-packages/librosa/util/decorators.py:88: UserWarning: n_fft=2048 is too small for input signal of length=230\n",
      "  return f(*args, **kwargs)\n"
     ]
    },
    {
     "data": {
      "text/plain": [
       "array([[[-299.22864],\n",
       "        [   0.     ],\n",
       "        [   0.     ],\n",
       "        ...,\n",
       "        [   0.     ],\n",
       "        [   0.     ],\n",
       "        [   0.     ]],\n",
       "\n",
       "       [[-299.22864],\n",
       "        [   0.     ],\n",
       "        [   0.     ],\n",
       "        ...,\n",
       "        [   0.     ],\n",
       "        [   0.     ],\n",
       "        [   0.     ]],\n",
       "\n",
       "       [[-299.22864],\n",
       "        [   0.     ],\n",
       "        [   0.     ],\n",
       "        ...,\n",
       "        [   0.     ],\n",
       "        [   0.     ],\n",
       "        [   0.     ]],\n",
       "\n",
       "       ...,\n",
       "\n",
       "       [[-299.22864],\n",
       "        [   0.     ],\n",
       "        [   0.     ],\n",
       "        ...,\n",
       "        [   0.     ],\n",
       "        [   0.     ],\n",
       "        [   0.     ]],\n",
       "\n",
       "       [[-299.22864],\n",
       "        [   0.     ],\n",
       "        [   0.     ],\n",
       "        ...,\n",
       "        [   0.     ],\n",
       "        [   0.     ],\n",
       "        [   0.     ]],\n",
       "\n",
       "       [[-299.22864],\n",
       "        [   0.     ],\n",
       "        [   0.     ],\n",
       "        ...,\n",
       "        [   0.     ],\n",
       "        [   0.     ],\n",
       "        [   0.     ]]], dtype=float32)"
      ]
     },
     "execution_count": 17,
     "metadata": {},
     "output_type": "execute_result"
    }
   ],
   "source": [
    "# Tohle nejde, cvicici rikal neco o tom, ze ta matice bude muset byt ctvercova, tak asi myslel tohle??\n",
    "librosa.feature.mfcc(y=stft_matrix)\n"
   ]
  }
 ],
 "metadata": {
  "kernelspec": {
   "display_name": "Python 3.10.8 64-bit",
   "language": "python",
   "name": "python3"
  },
  "language_info": {
   "codemirror_mode": {
    "name": "ipython",
    "version": 3
   },
   "file_extension": ".py",
   "mimetype": "text/x-python",
   "name": "python",
   "nbconvert_exporter": "python",
   "pygments_lexer": "ipython3",
   "version": "3.10.8"
  },
  "orig_nbformat": 4,
  "vscode": {
   "interpreter": {
    "hash": "b0fa6594d8f4cbf19f97940f81e996739fb7646882a419484c72d19e05852a7e"
   }
  }
 },
 "nbformat": 4,
 "nbformat_minor": 2
}
