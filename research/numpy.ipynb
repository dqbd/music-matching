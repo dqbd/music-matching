{
 "cells": [
  {
   "cell_type": "code",
   "execution_count": 2,
   "metadata": {},
   "outputs": [
    {
     "data": {
      "text/plain": [
       "array([1, 0, 0, 0])"
      ]
     },
     "execution_count": 2,
     "metadata": {},
     "output_type": "execute_result"
    }
   ],
   "source": [
    "import numpy as np\n",
    "\n",
    "A = np.array([[1, 0, 0, 0],\n",
    "              [0, 1, 0, 0],\n",
    "              [0, 0, 2, 0],\n",
    "              [0, 0, 0, 1]])\n",
    "\n",
    "B = np.array([[1, 1, 1, 1],\n",
    "              [2, 2, 2, 2],\n",
    "              [3, 3, 3, 3],\n",
    "              [4, 4, 4, 4]])\n",
    "\n",
    "np.einsum(\"ft,mf->mt\", A, B)\n",
    "\n",
    "\n",
    "A[0:4][0]\n"
   ]
  },
  {
   "cell_type": "code",
   "execution_count": 6,
   "metadata": {},
   "outputs": [
    {
     "name": "stdout",
     "output_type": "stream",
     "text": [
      "0 0\n",
      "1 10\n",
      "2 20\n",
      "3 30\n",
      "4 40\n",
      "5 50\n",
      "6 60\n",
      "7 70\n",
      "8 80\n",
      "9 90\n"
     ]
    }
   ],
   "source": [
    "for idx, i in np.ndenumerate(np.arange(10) * 10):\n",
    "    print(idx[-1], i)\n"
   ]
  },
  {
   "cell_type": "code",
   "execution_count": 43,
   "metadata": {},
   "outputs": [
    {
     "data": {
      "text/plain": [
       "array([3, 2, 0])"
      ]
     },
     "execution_count": 43,
     "metadata": {},
     "output_type": "execute_result"
    }
   ],
   "source": [
    "X = np.array([\n",
    "    [0, 0, 0, 0, 0],\n",
    "    [1, 1, 1, 1, 1],\n",
    "    [2, 2, 2, 2, 2],\n",
    "    [3, 3, 3, 3, 3],\n",
    "])\n",
    "\n",
    "pick = np.array([3, 3, 2, 1, 0])\n",
    "mask = np.array([True, False, True, False, True])\n",
    "\n",
    "\n",
    "\n",
    "X[pick[mask], np.arange(X.shape[1])[mask]]\n"
   ]
  },
  {
   "cell_type": "code",
   "execution_count": 49,
   "metadata": {},
   "outputs": [
    {
     "data": {
      "text/plain": [
       "array([['a', '', ''],\n",
       "       ['', '', ''],\n",
       "       ['', '', 'i']], dtype='<U1')"
      ]
     },
     "execution_count": 49,
     "metadata": {},
     "output_type": "execute_result"
    }
   ],
   "source": [
    "x = np.array([x for x in 'abcdefghi']).reshape((3, 3))\n",
    "mask = np.array([True, False, True])\n",
    "x[np.array([0, 1, 2])[mask], np.arange(x.shape[1])[mask]]\n",
    "\n",
    "\n",
    "y = np.zeros_like(x)\n",
    "\n",
    "y[np.array([0, 1, 2])[mask], np.arange(x.shape[1])[mask]] = x[np.array([0, 1, 2])[mask], np.arange(x.shape[1])[mask]]\n",
    "\n",
    "y"
   ]
  },
  {
   "cell_type": "code",
   "execution_count": 56,
   "metadata": {},
   "outputs": [
    {
     "data": {
      "text/plain": [
       "array([[[0, 2, 4],\n",
       "        [1, 3, 5]]])"
      ]
     },
     "execution_count": 56,
     "metadata": {},
     "output_type": "execute_result"
    }
   ],
   "source": [
    "test = [[0, 1], [2, 3], [4, 5]]\n",
    "\n",
    "np.lib.stride_tricks.sliding_window_view(test, (3), axis=0)\n"
   ]
  },
  {
   "cell_type": "code",
   "execution_count": null,
   "metadata": {},
   "outputs": [],
   "source": []
  }
 ],
 "metadata": {
  "kernelspec": {
   "display_name": "Python 3.10.8 64-bit",
   "language": "python",
   "name": "python3"
  },
  "language_info": {
   "codemirror_mode": {
    "name": "ipython",
    "version": 3
   },
   "file_extension": ".py",
   "mimetype": "text/x-python",
   "name": "python",
   "nbconvert_exporter": "python",
   "pygments_lexer": "ipython3",
   "version": "3.10.8"
  },
  "orig_nbformat": 4,
  "vscode": {
   "interpreter": {
    "hash": "b0fa6594d8f4cbf19f97940f81e996739fb7646882a419484c72d19e05852a7e"
   }
  }
 },
 "nbformat": 4,
 "nbformat_minor": 2
}
