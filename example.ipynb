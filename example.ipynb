{
 "cells": [
  {
   "cell_type": "code",
   "execution_count": 159,
   "metadata": {},
   "outputs": [],
   "source": [
    "import matplotlib.pyplot as plt\n",
    "import matplotlib\n",
    "import librosa\n",
    "import librosa.display\n",
    "import pandas as pd\n",
    "import numpy as np\n",
    "import seaborn as sns\n",
    "from fastdtw import fastdtw\n",
    "from typing import Callable\n",
    "\n",
    "nutcracker = librosa.example('nutcracker')\n",
    "brahms = librosa.example(\"brahms\")\n",
    "\n",
    "audio_nut, sr_nut = librosa.load(nutcracker)\n",
    "audio_brah, sr_brah = librosa.load(brahms)\n"
   ]
  },
  {
   "cell_type": "code",
   "execution_count": 160,
   "metadata": {},
   "outputs": [],
   "source": [
    "mfcc_full = librosa.feature.mfcc(\n",
    "    y=audio_nut,\n",
    "    sr=sr_nut,\n",
    "    n_mfcc=20\n",
    ")\n",
    "\n",
    "\n",
    "mfcc_segment = librosa.feature.mfcc(\n",
    "    y=audio_nut[int(audio_nut.shape[-1] / 4): int(3 * audio_nut.shape[-1] / 4)],\n",
    "    sr=sr_nut,\n",
    "    n_mfcc=20\n",
    ")\n",
    "\n",
    "mfcc_different = librosa.feature.mfcc(\n",
    "    y=audio_brah,\n",
    "    sr=sr_brah,\n",
    "    n_mfcc=20\n",
    ")\n"
   ]
  },
  {
   "cell_type": "code",
   "execution_count": 161,
   "metadata": {},
   "outputs": [
    {
     "data": {
      "text/plain": [
       "0.0"
      ]
     },
     "metadata": {},
     "output_type": "display_data"
    },
    {
     "data": {
      "text/plain": [
       "205717.98468780518"
      ]
     },
     "metadata": {},
     "output_type": "display_data"
    },
    {
     "data": {
      "text/plain": [
       "293293.45373630524"
      ]
     },
     "metadata": {},
     "output_type": "display_data"
    }
   ],
   "source": [
    "def euclid(a: np.float32, b: np.float32):\n",
    "    return np.abs(a - b)\n",
    "\n",
    "\n",
    "def dtw(source: np.array, target: np.array, dist: Callable[[np.float32, np.float32], np.float32]):\n",
    "    n, m = (source.shape[-1], target.shape[-1])\n",
    "    matrix = np.ndarray((n + 1, m + 1))\n",
    "    matrix[:] = np.inf\n",
    "    matrix[0, 0] = 0\n",
    "\n",
    "    for i in range(1, n + 1):\n",
    "        for j in range(1, m + 1):\n",
    "            new_cost = dist(source[i - 1], target[j - 1])\n",
    "            min_cost = np.min(\n",
    "                [matrix[i-1, j], matrix[i, j-1], matrix[i-1, j-1]]\n",
    "            )\n",
    "            matrix[i, j] = new_cost + min_cost\n",
    "    return matrix[n, m]\n",
    "\n",
    "\n",
    "display(fastdtw(mfcc_full[0], mfcc_full[0], dist=euclid)[0])\n",
    "display(fastdtw(mfcc_full[0], mfcc_segment[0], dist=euclid)[0])\n",
    "display(fastdtw(mfcc_full[0], mfcc_different[0], dist=euclid)[0])\n"
   ]
  }
 ],
 "metadata": {
  "kernelspec": {
   "display_name": "Python 3.10.8 64-bit",
   "language": "python",
   "name": "python3"
  },
  "language_info": {
   "codemirror_mode": {
    "name": "ipython",
    "version": 3
   },
   "file_extension": ".py",
   "mimetype": "text/x-python",
   "name": "python",
   "nbconvert_exporter": "python",
   "pygments_lexer": "ipython3",
   "version": "3.10.8"
  },
  "orig_nbformat": 4,
  "vscode": {
   "interpreter": {
    "hash": "b0fa6594d8f4cbf19f97940f81e996739fb7646882a419484c72d19e05852a7e"
   }
  }
 },
 "nbformat": 4,
 "nbformat_minor": 2
}
